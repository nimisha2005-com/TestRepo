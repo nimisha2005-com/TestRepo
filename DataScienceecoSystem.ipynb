{
 "cells": [
  {
   "cell_type": "markdown",
   "id": "d794b3cf-ebbb-4ec6-812f-6423c4a6e8c8",
   "metadata": {},
   "source": [
    "# Data Science Tools and Ecosystem\n"
   ]
  },
  {
   "cell_type": "markdown",
   "id": "45773828-4c1a-4ba7-a686-7ae318e19eab",
   "metadata": {},
   "source": [
    "In this notebook, Data Science Tools and Ecosystem are summarized"
   ]
  },
  {
   "cell_type": "markdown",
   "id": "8a337b24-c65a-4a14-89cb-04475f4243de",
   "metadata": {},
   "source": [
    "Some of the popular languages that Data Scientists use are:\n",
    "\n",
    "1. Python  \n",
    "2. R  \n",
    "3. SQL  \n",
    "4. Julia  \n",
    "5. Scala\n"
   ]
  },
  {
   "cell_type": "markdown",
   "id": "a41a55e6-fe6d-4602-b007-b0d893f001ab",
   "metadata": {},
   "source": [
    "Some of the commonly used libraries used by Data Scientists include:\n",
    "\n",
    "1. NumPy – Provides support for large, multi-dimensional arrays and matrices, along with a collection of mathematical functions.\n",
    "2. Pandas – Offers data structures and functions needed for efficient data manipulation and analysis.\n",
    "3. Matplotlib – A plotting library used for creating static, interactive, and animated visualizations in Python.\n"
   ]
  },
  {
   "cell_type": "markdown",
   "id": "87fe9a88-03fe-4403-b817-093847a667b2",
   "metadata": {},
   "source": [
    "| Data Science Tools        |\n",
    "|---------------------------|\n",
    "| Jupyter Notebook          |\n",
    "| RStudio                   |\n",
    "| Visual Studio Code        |\n"
   ]
  },
  {
   "cell_type": "markdown",
   "id": "899dd290-e527-48bb-a607-eedfb270bea7",
   "metadata": {},
   "source": [
    "\n",
    "Below are a few examples of evaluating arithmetic expressions in Python:\n"
   ]
  },
  {
   "cell_type": "code",
   "execution_count": 10,
   "id": "3f71a7b7-363b-48ec-bb19-1efff3443ce4",
   "metadata": {},
   "outputs": [
    {
     "data": {
      "text/plain": [
       "17"
      ]
     },
     "execution_count": 10,
     "metadata": {},
     "output_type": "execute_result"
    }
   ],
   "source": [
    "# This is a simple arithmetic expression to multiply then add integers\n",
    "(3 * 4) + 5\n",
    "\n"
   ]
  },
  {
   "cell_type": "code",
   "execution_count": 11,
   "id": "82259bac-7076-46e9-99bf-dd8f085bc60f",
   "metadata": {},
   "outputs": [
    {
     "data": {
      "text/plain": [
       "3.3333333333333335"
      ]
     },
     "execution_count": 11,
     "metadata": {},
     "output_type": "execute_result"
    }
   ],
   "source": [
    "# This will convert 200 minutes to hours by dividing by 60\n",
    "hours = 200 / 60\n",
    "hours\n"
   ]
  },
  {
   "cell_type": "markdown",
   "id": "5c327a46-d569-412e-9a83-7b7acf563749",
   "metadata": {},
   "source": [
    "**Objectives:**\n",
    "\n",
    "- Understand languages like Python,R,Julia,SQL,Scala\n",
    "- Understand popular libraries used in Data Science such as NumPy, Pandas, and Matplotlib  \n",
    "- Get familiar with common Data Science tools like Jupyter Notebook, RStudio, and Visual Studio Code  \n",
    "- Learn basic Python arithmetic expression evaluation  \n",
    "\n"
   ]
  },
  {
   "cell_type": "markdown",
   "id": "9cd804fb-b5c7-437d-8739-489976c56167",
   "metadata": {},
   "source": [
    "## Author\n",
    "\n",
    "NIMISHA M S\n"
   ]
  },
  {
   "cell_type": "code",
   "execution_count": null,
   "id": "527f1708-a0bc-423a-b77c-f14c4b2950e0",
   "metadata": {},
   "outputs": [],
   "source": []
  }
 ],
 "metadata": {
  "kernelspec": {
   "display_name": "Python 3 (ipykernel)",
   "language": "python",
   "name": "python3"
  },
  "language_info": {
   "codemirror_mode": {
    "name": "ipython",
    "version": 3
   },
   "file_extension": ".py",
   "mimetype": "text/x-python",
   "name": "python",
   "nbconvert_exporter": "python",
   "pygments_lexer": "ipython3",
   "version": "3.12.9"
  }
 },
 "nbformat": 4,
 "nbformat_minor": 5
}
